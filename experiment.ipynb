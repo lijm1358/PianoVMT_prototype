{
 "cells": [
  {
   "attachments": {},
   "cell_type": "markdown",
   "metadata": {},
   "source": [
    "## Model experiment"
   ]
  },
  {
   "cell_type": "code",
   "execution_count": 254,
   "metadata": {},
   "outputs": [],
   "source": [
    "import torch\n",
    "from torch import nn\n",
    "from torchvision.models import resnet18"
   ]
  },
  {
   "cell_type": "code",
   "execution_count": 2,
   "metadata": {},
   "outputs": [],
   "source": [
    "backbone = resnet18(pretrained=True)"
   ]
  },
  {
   "cell_type": "code",
   "execution_count": 3,
   "metadata": {},
   "outputs": [],
   "source": [
    "test_input = torch.randn(1, 5, 3, 145, 800)"
   ]
  },
  {
   "cell_type": "code",
   "execution_count": 41,
   "metadata": {},
   "outputs": [],
   "source": [
    "backbone.fc.out_features = 88"
   ]
  },
  {
   "cell_type": "code",
   "execution_count": 42,
   "metadata": {},
   "outputs": [],
   "source": [
    "block1 = nn.Sequential(\n",
    "    backbone.conv1,\n",
    "    backbone.bn1,\n",
    "    backbone.relu,\n",
    "    backbone.maxpool,\n",
    "    backbone.layer1\n",
    ")"
   ]
  },
  {
   "cell_type": "code",
   "execution_count": 43,
   "metadata": {},
   "outputs": [],
   "source": [
    "block1_out = [block1(t) for t in test_input.transpose(1, 0)]"
   ]
  },
  {
   "cell_type": "code",
   "execution_count": 44,
   "metadata": {},
   "outputs": [],
   "source": [
    "agg_input = torch.stack(block1_out, dim=2)"
   ]
  },
  {
   "cell_type": "code",
   "execution_count": 45,
   "metadata": {},
   "outputs": [
    {
     "data": {
      "text/plain": [
       "torch.Size([1, 64, 5, 37, 200])"
      ]
     },
     "execution_count": 45,
     "metadata": {},
     "output_type": "execute_result"
    }
   ],
   "source": [
    "agg_input.shape"
   ]
  },
  {
   "cell_type": "code",
   "execution_count": 46,
   "metadata": {},
   "outputs": [],
   "source": [
    "agg_module = nn.Conv3d(64, 64, kernel_size=(5, 1, 1), stride=1, padding=(0, 0, 0))"
   ]
  },
  {
   "cell_type": "code",
   "execution_count": 47,
   "metadata": {},
   "outputs": [],
   "source": [
    "agg_out = agg_module(agg_input)"
   ]
  },
  {
   "cell_type": "code",
   "execution_count": 48,
   "metadata": {},
   "outputs": [
    {
     "data": {
      "text/plain": [
       "torch.Size([1, 64, 1, 37, 200])"
      ]
     },
     "execution_count": 48,
     "metadata": {},
     "output_type": "execute_result"
    }
   ],
   "source": [
    "agg_out.shape"
   ]
  },
  {
   "cell_type": "code",
   "execution_count": 49,
   "metadata": {},
   "outputs": [],
   "source": [
    "slope_vector = torch.linspace(0, 1, 88)\n",
    "slope_vector = slope_vector.expand((1,1,-1))"
   ]
  },
  {
   "cell_type": "code",
   "execution_count": 50,
   "metadata": {},
   "outputs": [],
   "source": [
    "slope_module = nn.Sequential(\n",
    "    nn.Conv1d(1, 1, kernel_size=3, padding=1),\n",
    "    nn.ReLU(),\n",
    "    nn.Conv1d(1, 1, kernel_size=3, padding=1),\n",
    "    nn.ReLU(),\n",
    ")\n",
    "\n",
    "# sp_clone = nn.Sequential(\n",
    "#     nn.Conv2d(1, 64, )\n",
    "# )"
   ]
  },
  {
   "cell_type": "code",
   "execution_count": 51,
   "metadata": {},
   "outputs": [
    {
     "data": {
      "text/plain": [
       "torch.Size([1, 1, 44])"
      ]
     },
     "execution_count": 51,
     "metadata": {},
     "output_type": "execute_result"
    }
   ],
   "source": [
    "nn.Conv1d(1, 1, kernel_size=3, padding=1, stride=2)(slope_vector).shape"
   ]
  },
  {
   "cell_type": "code",
   "execution_count": 52,
   "metadata": {},
   "outputs": [],
   "source": [
    "batch_size = 1\n",
    "slope_vector_out1 = slope_module(slope_vector)\n",
    "slope_vector_out1 = slope_vector_out1.expand((batch_size, 1, 10, 88))"
   ]
  },
  {
   "cell_type": "code",
   "execution_count": 53,
   "metadata": {},
   "outputs": [],
   "source": [
    "slope_expand = nn.Sequential(\n",
    "    nn.Conv2d(in_channels=1, out_channels=64, kernel_size=[1, 39], padding=[0, 0]),\n",
    "    nn.ReLU()\n",
    ")\n",
    "slope_vector_out2 = slope_expand(slope_vector_out1)"
   ]
  },
  {
   "cell_type": "code",
   "execution_count": 54,
   "metadata": {},
   "outputs": [],
   "source": [
    "layer_2and3 = nn.Sequential(\n",
    "    backbone.layer2,\n",
    "    backbone.layer3\n",
    ")"
   ]
  },
  {
   "cell_type": "code",
   "execution_count": 55,
   "metadata": {},
   "outputs": [],
   "source": [
    "agg_out = torch.squeeze(agg_out, dim=2)"
   ]
  },
  {
   "cell_type": "code",
   "execution_count": 56,
   "metadata": {},
   "outputs": [
    {
     "data": {
      "text/plain": [
       "torch.Size([1, 64, 37, 200])"
      ]
     },
     "execution_count": 56,
     "metadata": {},
     "output_type": "execute_result"
    }
   ],
   "source": [
    "agg_out.shape"
   ]
  },
  {
   "cell_type": "code",
   "execution_count": 57,
   "metadata": {},
   "outputs": [],
   "source": [
    "layer2_out = layer_2and3(agg_out)"
   ]
  },
  {
   "cell_type": "code",
   "execution_count": 58,
   "metadata": {},
   "outputs": [
    {
     "data": {
      "text/plain": [
       "torch.Size([1, 256, 10, 50])"
      ]
     },
     "execution_count": 58,
     "metadata": {},
     "output_type": "execute_result"
    }
   ],
   "source": [
    "layer2_out.shape"
   ]
  },
  {
   "cell_type": "code",
   "execution_count": 59,
   "metadata": {},
   "outputs": [],
   "source": [
    "rest_in = torch.cat([layer2_out, slope_vector_out2], dim=1)\n",
    "slope_conv = nn.Sequential(\n",
    "    nn.Conv2d(in_channels=320, out_channels=256, kernel_size=3, padding=1),\n",
    "    nn.ReLU()\n",
    ")\n",
    "rest_in = slope_conv(rest_in)"
   ]
  },
  {
   "cell_type": "code",
   "execution_count": 60,
   "metadata": {},
   "outputs": [
    {
     "data": {
      "text/plain": [
       "torch.Size([1, 256, 10, 50])"
      ]
     },
     "execution_count": 60,
     "metadata": {},
     "output_type": "execute_result"
    }
   ],
   "source": [
    "rest_in.shape"
   ]
  },
  {
   "cell_type": "code",
   "execution_count": 70,
   "metadata": {},
   "outputs": [],
   "source": [
    "layer4 = nn.Sequential(\n",
    "    backbone.layer4,\n",
    "    backbone.avgpool,\n",
    "    nn.Flatten(),\n",
    "    nn.Linear(in_features=512, out_features=88, bias=True)\n",
    ")"
   ]
  },
  {
   "cell_type": "code",
   "execution_count": 72,
   "metadata": {},
   "outputs": [],
   "source": [
    "output = layer4(rest_in)"
   ]
  },
  {
   "attachments": {},
   "cell_type": "markdown",
   "metadata": {},
   "source": [
    "---------------"
   ]
  },
  {
   "attachments": {},
   "cell_type": "markdown",
   "metadata": {},
   "source": [
    "## Model Modularize, Dataset"
   ]
  },
  {
   "cell_type": "code",
   "execution_count": 1,
   "metadata": {},
   "outputs": [],
   "source": [
    "import torch\n",
    "from torch import nn\n",
    "from torchvision.models import resnet18"
   ]
  },
  {
   "cell_type": "code",
   "execution_count": 32,
   "metadata": {},
   "outputs": [],
   "source": [
    "class SightToSound(nn.Module):\n",
    "    def __init__(self):\n",
    "        super().__init__()\n",
    "        \n",
    "        self.backbone = resnet18(pretrained=True)\n",
    "        \n",
    "        self.block1 = nn.Sequential(\n",
    "            self.backbone.conv1,\n",
    "            self.backbone.bn1,\n",
    "            self.backbone.relu,\n",
    "            self.backbone.maxpool,\n",
    "            self.backbone.layer1\n",
    "        )\n",
    "        \n",
    "        self.agg_module = nn.Sequential(\n",
    "            nn.Conv3d(64, 64, kernel_size=(5, 1, 1), stride=1, padding=(0, 0, 0)),\n",
    "            nn.ReLU()\n",
    "        )\n",
    "        \n",
    "        self.slope_vector = torch.linspace(0, 1, 88).to(\"cuda\")\n",
    "        self.slope_vector = self.slope_vector.expand((1,1,-1))\n",
    "        \n",
    "        self.slope_module = nn.Sequential(\n",
    "            nn.Conv1d(1, 1, kernel_size=3, padding=1),\n",
    "            nn.ReLU(),\n",
    "            nn.Conv1d(1, 1, kernel_size=3, padding=1),\n",
    "            nn.ReLU(),\n",
    "        )\n",
    "        \n",
    "        self.slope_expand = nn.Sequential(\n",
    "            nn.Conv2d(in_channels=1, out_channels=64, kernel_size=[1, 39], padding=[0, 0]),\n",
    "            nn.ReLU()\n",
    "        )\n",
    "        \n",
    "        self.block_2_3 = nn.Sequential(\n",
    "            self.backbone.layer2,\n",
    "            self.backbone.layer3\n",
    "        )\n",
    "        \n",
    "        self.slope_conv = nn.Sequential(\n",
    "            nn.Conv2d(in_channels=320, out_channels=256, kernel_size=3, padding=1),\n",
    "            nn.ReLU()\n",
    "        )\n",
    "        \n",
    "        self.block4 = nn.Sequential(\n",
    "            self.backbone.layer4,\n",
    "            self.backbone.avgpool,\n",
    "            nn.Flatten(),\n",
    "            nn.Linear(in_features=512, out_features=88, bias=True)\n",
    "        )\n",
    "    def forward(self, x):\n",
    "        batch_size = x.shape[0]\n",
    "        \n",
    "        x = [self.block1(t) for t in x.transpose(1, 0)]\n",
    "        x = torch.stack(x, dim=2)\n",
    "        \n",
    "        x = self.agg_module(x)\n",
    "        x = torch.squeeze(x, dim=2)\n",
    "        \n",
    "        slope_vector = self.slope_module(self.slope_vector)\n",
    "        slope_vector = slope_vector.expand((batch_size, 1, 10, 88))\n",
    "        slope_vector = self.slope_expand(slope_vector)\n",
    "        \n",
    "        x = self.block_2_3(x)\n",
    "        \n",
    "        x_cat = torch.cat([x, slope_vector], dim=1)\n",
    "        x_cat = self.slope_conv(x_cat)\n",
    "        \n",
    "        output = self.block4(x_cat)\n",
    "        \n",
    "        return output"
   ]
  },
  {
   "cell_type": "code",
   "execution_count": 34,
   "metadata": {},
   "outputs": [],
   "source": [
    "from torch.utils.data import Dataset, DataLoader\n",
    "from itertools import accumulate\n",
    "import cv2\n",
    "import albumentations as A\n",
    "from albumentations.pytorch.transforms import ToTensorV2\n",
    "import os\n",
    "import numpy as np"
   ]
  },
  {
   "cell_type": "code",
   "execution_count": 35,
   "metadata": {},
   "outputs": [],
   "source": [
    "class PianoYTDataset(Dataset):\n",
    "    def __init__(self, data_dir, k=5, transforms=None):\n",
    "        self.data_dir = data_dir\n",
    "        self.train_image_dir = os.path.join(data_dir, \"images/train\")\n",
    "        self.train_label = os.path.join(data_dir, \"labels/train\")\n",
    "        \n",
    "        self.image_dir_names = sorted(os.listdir(self.train_image_dir))\n",
    "        \n",
    "        self.image_len_per_dir = [len(os.listdir(os.path.join(self.train_image_dir, image_path))) - (k-1) for image_path in sorted(self.image_dir_names)]\n",
    "        self.image_maxidx_per_dir = list(accumulate(self.image_len_per_dir))\n",
    "    \n",
    "    def __len__(self):\n",
    "        return self.image_maxidx_per_dir[-1]\n",
    "    \n",
    "    def __getitem__(self, idx):\n",
    "        dir_idx = 0\n",
    "        image_idx = 0\n",
    "        \n",
    "        for i, max_idx in enumerate(self.image_maxidx_per_dir):\n",
    "            if max_idx > idx:\n",
    "                dir_idx = i\n",
    "                image_idx = idx - (self.image_maxidx_per_dir[i-1] if i-1 >= 0 else 0)\n",
    "                break\n",
    "                \n",
    "        target_dir_path = os.path.join(self.train_image_dir, self.image_dir_names[dir_idx])\n",
    "        target_image_name = [str(i+1).zfill(4) + \".png\" for i in range(image_idx, image_idx+5)]\n",
    "\n",
    "        img_list = []\n",
    "        for image_path in map(lambda x: os.path.join(target_dir_path, x), target_image_name):\n",
    "            img = cv2.imread(image_path)\n",
    "            img = img / 255.0\n",
    "            img = img.transpose(2, 0, 1)\n",
    "            img_list.append(img)\n",
    "            \n",
    "        img = np.stack(img_list, axis=0)\n",
    "        img = torch.from_numpy(img).float()\n",
    "        \n",
    "        dir_idx = self.image_dir_names[dir_idx].split(\"_\")[0]\n",
    "        label_np = np.load(os.path.join(self.train_label, f\"{dir_idx}.npy\"))\n",
    "        label = label_np[image_idx+2]\n",
    "        return img, label"
   ]
  },
  {
   "cell_type": "code",
   "execution_count": 44,
   "metadata": {},
   "outputs": [],
   "source": [
    "model = SightToSound()"
   ]
  },
  {
   "cell_type": "code",
   "execution_count": 45,
   "metadata": {},
   "outputs": [],
   "source": [
    "ds = PianoYTDataset(\"./ytdataset/\")"
   ]
  },
  {
   "cell_type": "code",
   "execution_count": 46,
   "metadata": {},
   "outputs": [],
   "source": [
    "train_loader = DataLoader(ds, batch_size=48, shuffle=True)"
   ]
  },
  {
   "cell_type": "code",
   "execution_count": 49,
   "metadata": {},
   "outputs": [],
   "source": [
    "optimizer = torch.optim.Adam(model.parameters(), lr=0.001)\n",
    "criterion = nn.BCEWithLogitsLoss(pos_weight=torch.Tensor([10]).cuda())\n",
    "device = \"cuda\" if torch.cuda.is_available() else \"cpu\""
   ]
  },
  {
   "cell_type": "code",
   "execution_count": 50,
   "metadata": {},
   "outputs": [
    {
     "name": "stdout",
     "output_type": "stream",
     "text": [
      "Epoch 0\n",
      "[0/8465] loss : 0.739483368830072\n",
      "[10/8465] loss : 0.09098862001740063\n",
      "[20/8465] loss : 0.05399181691013494\n",
      "[30/8465] loss : 0.17447680788756725\n",
      "[40/8465] loss : 0.13324780896841357\n",
      "[50/8465] loss : 0.07363888959323212\n",
      "[60/8465] loss : 0.07713483740926652\n",
      "[70/8465] loss : 0.09689498239284602\n",
      "[80/8465] loss : 0.1789056391744324\n",
      "[90/8465] loss : 0.08776140164121188\n",
      "[100/8465] loss : 0.1292178437354788\n",
      "[110/8465] loss : 0.1422798161775179\n",
      "[120/8465] loss : 0.19155123294410425\n",
      "[130/8465] loss : 0.10970752609642911\n",
      "[140/8465] loss : 0.14724629696887792\n",
      "[150/8465] loss : 0.112203617279129\n",
      "[160/8465] loss : 0.17927672963240102\n",
      "[170/8465] loss : 0.10773561571806012\n",
      "[180/8465] loss : 0.1829027142416703\n",
      "[190/8465] loss : 0.10360879367530354\n",
      "[200/8465] loss : 0.1273334860283587\n",
      "[210/8465] loss : 0.15801908203846987\n",
      "[220/8465] loss : 0.1267796800240236\n",
      "[230/8465] loss : 0.06149079687143477\n",
      "[240/8465] loss : 0.08616563104857616\n",
      "[250/8465] loss : 0.18217696402246947\n",
      "[260/8465] loss : 0.12748919787586946\n",
      "[270/8465] loss : 0.0914559274453968\n",
      "[280/8465] loss : 0.09689881827075907\n",
      "[290/8465] loss : 0.11216755270298774\n",
      "[300/8465] loss : 0.12587896621385827\n",
      "[310/8465] loss : 0.14527678287650933\n",
      "[320/8465] loss : 0.12015974181248958\n",
      "[330/8465] loss : 0.07211070251365784\n",
      "[340/8465] loss : 0.10217525593638892\n",
      "[350/8465] loss : 0.0706693971932296\n",
      "[360/8465] loss : 0.10219540939238343\n",
      "[370/8465] loss : 0.11564696706106699\n",
      "[380/8465] loss : 0.1098974110065215\n",
      "[390/8465] loss : 0.12393778912153833\n",
      "[400/8465] loss : 0.1551426709475971\n",
      "[410/8465] loss : 0.1407316699514741\n",
      "[420/8465] loss : 0.12130217471738805\n",
      "[430/8465] loss : 0.1448196153009567\n",
      "[440/8465] loss : 0.15898303940718894\n"
     ]
    }
   ],
   "source": [
    "max_epoch = 100\n",
    "\n",
    "model = model.to(device)\n",
    "for epoch in range(max_epoch):\n",
    "    print(f\"Epoch {epoch}\")\n",
    "    model.train()\n",
    "    for i, (img, label) in enumerate(train_loader):\n",
    "        img, label = img.to(device), label.to(device)\n",
    "        \n",
    "        output = model(img)\n",
    "        \n",
    "        loss = criterion(output, label)\n",
    "        \n",
    "        if i%10 == 0:\n",
    "            print(f\"[{i}/{len(train_loader)}] loss : {loss.item()}\")\n",
    "        \n",
    "        loss.backward()\n",
    "        optimizer.step()\n",
    "        optimizer.zero_grad()"
   ]
  },
  {
   "attachments": {},
   "cell_type": "markdown",
   "metadata": {},
   "source": [
    "------------------"
   ]
  },
  {
   "attachments": {},
   "cell_type": "markdown",
   "metadata": {},
   "source": [
    "## Midi experiment"
   ]
  },
  {
   "cell_type": "code",
   "execution_count": 2,
   "metadata": {},
   "outputs": [],
   "source": [
    "\n",
    "\"\"\"\n",
    "note : C0부터 0을 의미. 12 더할때마다 1 octave 증가\n",
    "time : 앞의 note로부터 얼마나 지났는지를 보여줌\n",
    "    ticks_per_beat, bpm으로 1초당 몇 tick인지 계산 가능(bpm 찾아야 할듯)\n",
    "    time을 해당 tick으로 나누면 몇 초인지 계산가능\n",
    "velocity : 누른 세기. 0이면 해당 note에서 손 뗌\n",
    "tempo : 500,000us per tick. = 0.5s per tick\n",
    "\"\"\"\n",
    "import mido\n",
    "from mido import MidiFile\n",
    "from copy import deepcopy\n",
    "\n",
    "mid = MidiFile('./PianoYT/pianoyt_MIDI/audio_100.0.midi')\n",
    "# mid = MidiFile('./MIDItest/miditest_MIDI/5.mid')"
   ]
  },
  {
   "cell_type": "code",
   "execution_count": 3,
   "metadata": {},
   "outputs": [],
   "source": [
    "bpm = mido.tempo2bpm(mid.tracks[0][0].tempo)\n",
    "bps = bpm / 60.0\n",
    "\n",
    "sec_per_tick = mid.ticks_per_beat * bps"
   ]
  },
  {
   "cell_type": "code",
   "execution_count": 4,
   "metadata": {},
   "outputs": [
    {
     "data": {
      "text/plain": [
       "440.0"
      ]
     },
     "execution_count": 4,
     "metadata": {},
     "output_type": "execute_result"
    }
   ],
   "source": [
    "# time을 이걸로 나누면 초 단위로 변경 가능\n",
    "sec_per_tick"
   ]
  },
  {
   "cell_type": "code",
   "execution_count": 5,
   "metadata": {},
   "outputs": [],
   "source": [
    "note_str = [\"C\", \"C#\", \"D\", \"D#\", \"E\", \"F\", \"F#\", \"G\", \"G#\", \"A\", \"A#\", \"B\"]"
   ]
  },
  {
   "cell_type": "code",
   "execution_count": 6,
   "metadata": {},
   "outputs": [],
   "source": [
    "custom_notes = []\n",
    "curtime = 0\n",
    "for msg in mid.tracks[1]:\n",
    "    if hasattr(msg, \"note\"):\n",
    "        note_pitch = msg.note\n",
    "        note_stat = \"on\" if msg.velocity > 0 else \"off\"\n",
    "        curtime += msg.time\n",
    "        note_time = curtime / sec_per_tick\n",
    "        custom_notes.append({\"status\": note_stat, \"note\": note_pitch, \"time(sec)\":note_time})"
   ]
  },
  {
   "cell_type": "code",
   "execution_count": 7,
   "metadata": {},
   "outputs": [],
   "source": [
    "def numeric_note_to_string(custom_note):\n",
    "    custom_note_copy = deepcopy(custom_note)\n",
    "    for note in custom_note_copy:\n",
    "        note['note(str)'] = note_str[note['note'] % 12] + str(int(note['note']) // 12)\n",
    "    return custom_note_copy"
   ]
  },
  {
   "cell_type": "code",
   "execution_count": 8,
   "metadata": {},
   "outputs": [],
   "source": [
    "custom_notes = numeric_note_to_string(custom_notes)"
   ]
  },
  {
   "cell_type": "code",
   "execution_count": null,
   "metadata": {},
   "outputs": [],
   "source": [
    "custom_notes"
   ]
  },
  {
   "cell_type": "code",
   "execution_count": 9,
   "metadata": {},
   "outputs": [],
   "source": [
    "# midi drawing\n",
    "curtime = 0\n",
    "x = []\n",
    "y = []\n",
    "for msg in mid.tracks[1]:\n",
    "    if hasattr(msg, \"note\"):\n",
    "        if msg.velocity != 0:\n",
    "            y.append(msg.note)\n",
    "        curtime += msg.time\n",
    "        if msg.velocity != 0:\n",
    "            x.append(curtime)"
   ]
  },
  {
   "cell_type": "code",
   "execution_count": 138,
   "metadata": {},
   "outputs": [
    {
     "data": {
      "text/plain": [
       "<matplotlib.collections.PathCollection at 0x1ed1dc47df0>"
      ]
     },
     "execution_count": 138,
     "metadata": {},
     "output_type": "execute_result"
    },
    {
     "data": {
      "image/png": "[encoded data removed]",
      "text/plain": [
       "<Figure size 2160x360 with 1 Axes>"
      ]
     },
     "metadata": {
      "needs_background": "light"
     },
     "output_type": "display_data"
    }
   ],
   "source": [
    "import matplotlib.pyplot as plt\n",
    "\n",
    "plt.figure(figsize=(30, 5))\n",
    "plt.scatter(x, y)"
   ]
  },
  {
   "attachments": {},
   "cell_type": "markdown",
   "metadata": {},
   "source": [
    "## Midi to numpy"
   ]
  },
  {
   "cell_type": "code",
   "execution_count": 82,
   "metadata": {},
   "outputs": [],
   "source": [
    "import numpy as np\n",
    "import os\n",
    "import matplotlib.pyplot as plt\n",
    "from tqdm import tqdm"
   ]
  },
  {
   "cell_type": "code",
   "execution_count": 18,
   "metadata": {},
   "outputs": [],
   "source": [
    "image_fps = 25\n",
    "sec_per_frame = 1 / image_fps"
   ]
  },
  {
   "cell_type": "code",
   "execution_count": 48,
   "metadata": {},
   "outputs": [],
   "source": [
    "notes_only_on = [note for note in custom_notes if note['status'] == 'on']"
   ]
  },
  {
   "cell_type": "code",
   "execution_count": 87,
   "metadata": {},
   "outputs": [
    {
     "name": "stderr",
     "output_type": "stream",
     "text": [
      "100%|██████████| 37/37 [00:08<00:00,  4.12it/s]\n"
     ]
    }
   ],
   "source": [
    "music_list = os.listdir(\"./images/train/\")\n",
    "\n",
    "for music in tqdm(music_list):\n",
    "    frame_len = len(os.listdir(os.path.join(\"./images/train/\", music)))\n",
    "    music_idx = int(music.split(\"_\")[0])\n",
    "    label = np.zeros((frame_len, 88)) # top-down\n",
    "    midi_idx = 0\n",
    "    frame_time = 0.0\n",
    "    \n",
    "    mid = MidiFile(f'./PianoYT/pianoyt_MIDI/audio_{music_idx}.0.midi')\n",
    "    \n",
    "    bpm = mido.tempo2bpm(mid.tracks[0][0].tempo)\n",
    "    bps = bpm / 60.0\n",
    "\n",
    "    sec_per_tick = mid.ticks_per_beat * bps\n",
    "    \n",
    "    custom_notes = []\n",
    "    curtime = 0\n",
    "    for msg in mid.tracks[1]:\n",
    "        if hasattr(msg, \"note\"):\n",
    "            note_pitch = msg.note\n",
    "            note_stat = \"on\" if msg.velocity > 0 else \"off\"\n",
    "            curtime += msg.time\n",
    "            note_time = curtime / sec_per_tick\n",
    "            custom_notes.append({\"status\": note_stat, \"note\": note_pitch, \"time(sec)\":note_time})\n",
    "            \n",
    "    notes_only_on = [note for note in custom_notes if note['status'] == 'on']\n",
    "    \n",
    "    for i in range(frame_len):\n",
    "        if midi_idx >= len(notes_only_on):\n",
    "            break\n",
    "        if notes_only_on[midi_idx]['time(sec)'] < frame_time:\n",
    "            while midi_idx < len(notes_only_on) and notes_only_on[midi_idx]['time(sec)'] < frame_time:\n",
    "                if notes_only_on[midi_idx]['note'] - 21 < 0:\n",
    "                    print(\"minus\")\n",
    "                label[i][notes_only_on[midi_idx]['note'] - 21] = 1\n",
    "                midi_idx += 1\n",
    "        frame_time += sec_per_frame\n",
    "        \n",
    "    np.save(f\"./labels/train/{music_idx}.npy\", label)"
   ]
  },
  {
   "cell_type": "code",
   "execution_count": 78,
   "metadata": {},
   "outputs": [
    {
     "data": {
      "text/plain": [
       "(5489, 88)"
      ]
     },
     "execution_count": 78,
     "metadata": {},
     "output_type": "execute_result"
    }
   ],
   "source": [
    "label.shape"
   ]
  },
  {
   "cell_type": "code",
   "execution_count": 56,
   "metadata": {},
   "outputs": [
    {
     "data": {
      "text/plain": [
       "(88, 5489)"
      ]
     },
     "execution_count": 56,
     "metadata": {},
     "output_type": "execute_result"
    }
   ],
   "source": [
    "label_plot.shape"
   ]
  },
  {
   "cell_type": "code",
   "execution_count": 70,
   "metadata": {},
   "outputs": [
    {
     "data": {
      "text/plain": [
       "(150, 88)"
      ]
     },
     "execution_count": 70,
     "metadata": {},
     "output_type": "execute_result"
    }
   ],
   "source": [
    "label[150:300].shape"
   ]
  },
  {
   "cell_type": "code",
   "execution_count": 77,
   "metadata": {},
   "outputs": [
    {
     "data": {
      "text/plain": [
       "<matplotlib.image.AxesImage at 0x7ff3d54400a0>"
      ]
     },
     "execution_count": 77,
     "metadata": {},
     "output_type": "execute_result"
    },
    {
     "data": {
      "image/png": "[encoded data removed]",
      "text/plain": [
       "<Figure size 1000x5000 with 1 Axes>"
      ]
     },
     "metadata": {},
     "output_type": "display_data"
    }
   ],
   "source": [
    "plt.figure(figsize=(10, 50))\n",
    "plt.imshow(label[250:350].transpose()[::][::-1])"
   ]
  },
  {
   "cell_type": "code",
   "execution_count": null,
   "metadata": {},
   "outputs": [],
   "source": [
    "custom_notes"
   ]
  },
  {
   "attachments": {},
   "cell_type": "markdown",
   "metadata": {},
   "source": [
    "-------------"
   ]
  },
  {
   "attachments": {},
   "cell_type": "markdown",
   "metadata": {},
   "source": [
    "## Video experiment"
   ]
  },
  {
   "cell_type": "code",
   "execution_count": 1,
   "metadata": {},
   "outputs": [],
   "source": [
    "from pytube import YouTube"
   ]
  },
  {
   "cell_type": "code",
   "execution_count": 2,
   "metadata": {},
   "outputs": [],
   "source": [
    "import pandas as pd\n",
    "import cv2"
   ]
  },
  {
   "cell_type": "code",
   "execution_count": 3,
   "metadata": {},
   "outputs": [],
   "source": [
    "from tqdm import tqdm"
   ]
  },
  {
   "cell_type": "code",
   "execution_count": 4,
   "metadata": {},
   "outputs": [],
   "source": [
    "music_list = pd.read_csv('./PianoYT/pianoyt.csv', names=[\"index\", \"link\", \"train/test\", \"crop_minY\", \"crop_maxY\", \"crop_minX\", \"crop_maxX\"])"
   ]
  },
  {
   "cell_type": "code",
   "execution_count": null,
   "metadata": {},
   "outputs": [],
   "source": [
    "music_list"
   ]
  },
  {
   "cell_type": "code",
   "execution_count": 111,
   "metadata": {},
   "outputs": [
    {
     "data": {
      "text/plain": [
       "[<Stream: itag=\"137\" mime_type=\"video/mp4\" res=\"1080p\" fps=\"25fps\" vcodec=\"avc1.640028\" progressive=\"False\" type=\"video\">]"
      ]
     },
     "execution_count": 111,
     "metadata": {},
     "output_type": "execute_result"
    }
   ],
   "source": [
    "yt.streams.filter(mime_type=\"video/mp4\", res=\"1080p\", progressive=False)"
   ]
  },
  {
   "cell_type": "code",
   "execution_count": 119,
   "metadata": {},
   "outputs": [
    {
     "name": "stderr",
     "output_type": "stream",
     "text": [
      " 65%|██████▌   | 149/228 [46:46<38:41, 29.38s/it]  "
     ]
    },
    {
     "name": "stdout",
     "output_type": "stream",
     "text": [
      "failed to download : 259, 'https://www.youtube.com/watch?v=Y_QSVhy3zBY'\n"
     ]
    },
    {
     "name": "stderr",
     "output_type": "stream",
     "text": [
      " 84%|████████▍ | 191/228 [1:01:35<08:32, 13.85s/it]"
     ]
    },
    {
     "name": "stdout",
     "output_type": "stream",
     "text": [
      "failed to download : 400, 'https://www.youtube.com/watch?v=MBonQ6x7x_g'\n"
     ]
    },
    {
     "name": "stderr",
     "output_type": "stream",
     "text": [
      " 84%|████████▍ | 192/228 [1:01:38<06:16, 10.45s/it]"
     ]
    },
    {
     "name": "stdout",
     "output_type": "stream",
     "text": [
      "failed to download : 401, 'https://www.youtube.com/watch?v=O5WfUoXhnzk'\n"
     ]
    },
    {
     "name": "stderr",
     "output_type": "stream",
     "text": [
      " 85%|████████▍ | 193/228 [1:01:39<04:32,  7.79s/it]"
     ]
    },
    {
     "name": "stdout",
     "output_type": "stream",
     "text": [
      "failed to download : 402, 'https://www.youtube.com/watch?v=lh0juXMLUp0'\n"
     ]
    },
    {
     "name": "stderr",
     "output_type": "stream",
     "text": [
      " 85%|████████▌ | 194/228 [1:01:41<03:18,  5.84s/it]"
     ]
    },
    {
     "name": "stdout",
     "output_type": "stream",
     "text": [
      "failed to download : 403, 'https://www.youtube.com/watch?v=KkyXCyV4vxQ'\n"
     ]
    },
    {
     "name": "stderr",
     "output_type": "stream",
     "text": [
      " 86%|████████▌ | 195/228 [1:01:43<02:35,  4.72s/it]"
     ]
    },
    {
     "name": "stdout",
     "output_type": "stream",
     "text": [
      "failed to download : 404, 'https://www.youtube.com/watch?v=i8aIiHoYM0s'\n"
     ]
    },
    {
     "name": "stderr",
     "output_type": "stream",
     "text": [
      " 86%|████████▌ | 196/228 [1:01:45<02:04,  3.89s/it]"
     ]
    },
    {
     "name": "stdout",
     "output_type": "stream",
     "text": [
      "failed to download : 405, 'https://www.youtube.com/watch?v=6lVSwKTj6R4'\n"
     ]
    },
    {
     "name": "stderr",
     "output_type": "stream",
     "text": [
      " 86%|████████▋ | 197/228 [1:01:47<01:41,  3.29s/it]"
     ]
    },
    {
     "name": "stdout",
     "output_type": "stream",
     "text": [
      "failed to download : 406, 'https://www.youtube.com/watch?v=f3gmDIMAhhg'\n"
     ]
    },
    {
     "name": "stderr",
     "output_type": "stream",
     "text": [
      " 87%|████████▋ | 198/228 [1:01:48<01:26,  2.87s/it]"
     ]
    },
    {
     "name": "stdout",
     "output_type": "stream",
     "text": [
      "failed to download : 407, 'https://www.youtube.com/watch?v=zKiaKpsEPd0'\n"
     ]
    },
    {
     "name": "stderr",
     "output_type": "stream",
     "text": [
      " 87%|████████▋ | 199/228 [1:01:50<01:14,  2.58s/it]"
     ]
    },
    {
     "name": "stdout",
     "output_type": "stream",
     "text": [
      "failed to download : 408, 'https://www.youtube.com/watch?v=5bBT1aCfkKQ'\n"
     ]
    },
    {
     "name": "stderr",
     "output_type": "stream",
     "text": [
      " 88%|████████▊ | 200/228 [1:01:52<01:06,  2.36s/it]"
     ]
    },
    {
     "name": "stdout",
     "output_type": "stream",
     "text": [
      "failed to download : 409, 'https://www.youtube.com/watch?v=E4y0CZA1epQ'\n"
     ]
    },
    {
     "name": "stderr",
     "output_type": "stream",
     "text": [
      " 88%|████████▊ | 201/228 [1:01:53<00:55,  2.05s/it]"
     ]
    },
    {
     "name": "stdout",
     "output_type": "stream",
     "text": [
      "failed to download : 410, 'https://www.youtube.com/watch?v=lh0juXMLUp0'\n"
     ]
    },
    {
     "name": "stderr",
     "output_type": "stream",
     "text": [
      " 89%|████████▊ | 202/228 [1:01:56<00:57,  2.22s/it]"
     ]
    },
    {
     "name": "stdout",
     "output_type": "stream",
     "text": [
      "failed to download : 411, 'https://www.youtube.com/watch?v=5B9VwtPiEhg'\n"
     ]
    },
    {
     "name": "stderr",
     "output_type": "stream",
     "text": [
      " 91%|█████████ | 207/228 [1:02:44<02:36,  7.44s/it]"
     ]
    },
    {
     "name": "stdout",
     "output_type": "stream",
     "text": [
      "failed to download : 416, 'https://www.youtube.com/watch?v=ruzeujh-G60'\n"
     ]
    },
    {
     "name": "stderr",
     "output_type": "stream",
     "text": [
      " 91%|█████████ | 208/228 [1:02:46<01:55,  5.80s/it]"
     ]
    },
    {
     "name": "stdout",
     "output_type": "stream",
     "text": [
      "failed to download : 417, 'https://www.youtube.com/watch?v=r9KmxbzkkGo'\n"
     ]
    },
    {
     "name": "stderr",
     "output_type": "stream",
     "text": [
      " 92%|█████████▏| 209/228 [1:02:48<01:28,  4.64s/it]"
     ]
    },
    {
     "name": "stdout",
     "output_type": "stream",
     "text": [
      "failed to download : 418, 'https://www.youtube.com/watch?v=qAOCP6Zwtk4'\n"
     ]
    },
    {
     "name": "stderr",
     "output_type": "stream",
     "text": [
      " 92%|█████████▏| 210/228 [1:02:50<01:08,  3.81s/it]"
     ]
    },
    {
     "name": "stdout",
     "output_type": "stream",
     "text": [
      "failed to download : 419, 'https://www.youtube.com/watch?v=dyYs3H1u6nA'\n"
     ]
    },
    {
     "name": "stderr",
     "output_type": "stream",
     "text": [
      " 93%|█████████▎| 211/228 [1:02:52<00:58,  3.42s/it]"
     ]
    },
    {
     "name": "stdout",
     "output_type": "stream",
     "text": [
      "failed to download : 421, 'https://www.youtube.com/watch?v=CkMsPVOY3oo'\n"
     ]
    },
    {
     "name": "stderr",
     "output_type": "stream",
     "text": [
      " 93%|█████████▎| 212/228 [1:02:54<00:47,  2.98s/it]"
     ]
    },
    {
     "name": "stdout",
     "output_type": "stream",
     "text": [
      "failed to download : 422, 'https://www.youtube.com/watch?v=iRTm2dETa_Q'\n"
     ]
    },
    {
     "name": "stderr",
     "output_type": "stream",
     "text": [
      " 93%|█████████▎| 213/228 [1:02:56<00:40,  2.73s/it]"
     ]
    },
    {
     "name": "stdout",
     "output_type": "stream",
     "text": [
      "failed to download : 423, 'https://www.youtube.com/watch?v=iaHMLDIfrWQ'\n"
     ]
    },
    {
     "name": "stderr",
     "output_type": "stream",
     "text": [
      " 94%|█████████▍| 214/228 [1:02:58<00:34,  2.50s/it]"
     ]
    },
    {
     "name": "stdout",
     "output_type": "stream",
     "text": [
      "failed to download : 424, 'https://www.youtube.com/watch?v=73RJXTFlQQg'\n"
     ]
    },
    {
     "name": "stderr",
     "output_type": "stream",
     "text": [
      " 94%|█████████▍| 215/228 [1:03:00<00:30,  2.32s/it]"
     ]
    },
    {
     "name": "stdout",
     "output_type": "stream",
     "text": [
      "failed to download : 425, 'https://www.youtube.com/watch?v=S0ty10ARo94'\n"
     ]
    },
    {
     "name": "stderr",
     "output_type": "stream",
     "text": [
      " 95%|█████████▌| 217/228 [1:03:20<01:00,  5.49s/it]"
     ]
    },
    {
     "name": "stdout",
     "output_type": "stream",
     "text": [
      "failed to download : 427, 'https://www.youtube.com/watch?v=RNHsiA03PHI'\n"
     ]
    },
    {
     "name": "stderr",
     "output_type": "stream",
     "text": [
      " 96%|█████████▋| 220/228 [1:03:56<01:07,  8.45s/it]"
     ]
    },
    {
     "name": "stdout",
     "output_type": "stream",
     "text": [
      "failed to download : 430, 'https://www.youtube.com/watch?v=9CYUFeDazEM'\n"
     ]
    },
    {
     "name": "stderr",
     "output_type": "stream",
     "text": [
      " 98%|█████████▊| 223/228 [1:04:14<00:31,  6.24s/it]"
     ]
    },
    {
     "name": "stdout",
     "output_type": "stream",
     "text": [
      "failed to download : 434, 'https://www.youtube.com/watch?v=RvMBjzguZwk'\n"
     ]
    },
    {
     "name": "stderr",
     "output_type": "stream",
     "text": [
      " 98%|█████████▊| 224/228 [1:04:16<00:19,  4.97s/it]"
     ]
    },
    {
     "name": "stdout",
     "output_type": "stream",
     "text": [
      "failed to download : 435, 'https://www.youtube.com/watch?v=cvK-dRM9fL0'\n"
     ]
    },
    {
     "name": "stderr",
     "output_type": "stream",
     "text": [
      " 99%|█████████▊| 225/228 [1:04:19<00:12,  4.23s/it]"
     ]
    },
    {
     "name": "stdout",
     "output_type": "stream",
     "text": [
      "failed to download : 436, 'https://www.youtube.com/watch?v=4G1tXBwvUNw'\n"
     ]
    },
    {
     "name": "stderr",
     "output_type": "stream",
     "text": [
      " 99%|█████████▉| 226/228 [1:04:21<00:07,  3.54s/it]"
     ]
    },
    {
     "name": "stdout",
     "output_type": "stream",
     "text": [
      "failed to download : 437, 'https://www.youtube.com/watch?v=K6jn04Qb0J4'\n"
     ]
    },
    {
     "name": "stderr",
     "output_type": "stream",
     "text": [
      "100%|██████████| 228/228 [1:04:42<00:00, 17.03s/it]\n"
     ]
    }
   ],
   "source": [
    "# yt.streams로 사용 가능한 youtube 객체(동영상, 음성 등) 확인 가능\n",
    "# filter로 원하는 형태의 stream 가져오기 가능\n",
    "# video들은 25fps\n",
    "\n",
    "os.makedirs(\"./videos/train/\", exist_ok=True)\n",
    "os.makedirs(\"./videos/test/\", exist_ok=True)\n",
    "for _, (is_train, music_link, music_idx) in tqdm(music_list[['train/test', 'link', 'index']].iterrows(), total=music_list.shape[0]):\n",
    "    if is_train == 1:\n",
    "        output_path = \"./videos/train/\"\n",
    "    else:\n",
    "        output_path = \"./videos/test/\"\n",
    "    try:\n",
    "        yt = YouTube(music_link)\n",
    "        yt.streams.filter(mime_type=\"video/mp4\", res=\"1080p\").first().download(output_path=output_path, filename_prefix=f\"{music_idx}_\")\n",
    "    except Exception:\n",
    "        print(f\"failed to download : {music_idx}, {music_link}\")"
   ]
  },
  {
   "cell_type": "code",
   "execution_count": 7,
   "metadata": {},
   "outputs": [],
   "source": [
    "import ffmpeg\n",
    "import os"
   ]
  },
  {
   "cell_type": "code",
   "execution_count": 8,
   "metadata": {},
   "outputs": [],
   "source": [
    "vid_list_train = sorted(os.listdir(\"./videos/train\"))"
   ]
  },
  {
   "cell_type": "code",
   "execution_count": null,
   "metadata": {},
   "outputs": [],
   "source": [
    "for vid_name in vid_list_train[:80]:\n",
    "    idx = int(vid_name.split(\"_\")[0])\n",
    "    minY, maxY, minX, maxX = music_list[music_list['index']==idx][['crop_minY', 'crop_maxY', 'crop_minX', 'crop_maxX']].values[0]\n",
    "    vid_path = os.path.join(\"./videos/train\", vid_name)\n",
    "    vid_obj = ffmpeg.input(vid_path)\n",
    "    vid_save_path = f\"images/train/{vid_name}\"\n",
    "    os.makedirs(vid_save_path, exist_ok=True)\n",
    "    vid_obj.filter(\"fps\", fps=25).filter(\"crop\", maxX-minX, maxY-minY, minX, minY).filter(\"scale\", \"800\", \"145\").output(os.path.join(vid_save_path, \"%04d.png\"), **{\"qmin\": 1, \"qmax\": 1}).run()"
   ]
  },
  {
   "cell_type": "code",
   "execution_count": 121,
   "metadata": {},
   "outputs": [
    {
     "data": {
      "text/plain": [
       "index                                                   100\n",
       "link          'https://www.youtube.com/watch?v=bAS4XoMwsWw'\n",
       "train/test                                                1\n",
       "crop_minY                                               666\n",
       "crop_maxY                                               999\n",
       "crop_minX                                                45\n",
       "crop_maxX                                              1874\n",
       "Name: 0, dtype: object"
      ]
     },
     "execution_count": 121,
     "metadata": {},
     "output_type": "execute_result"
    }
   ],
   "source": [
    "music_list.iloc[0]"
   ]
  },
  {
   "cell_type": "code",
   "execution_count": null,
   "metadata": {},
   "outputs": [],
   "source": [
    "test_vid.filter(\"fps\", fps=25).filter(\"crop\", \"1829\", \"333\", \"45\", \"666\").filter(\"scale\", \"800\", \"145\").output(\"test/$filename%04d.png\", **{\"qmin\": 5, \"qmax\": 5}).run()"
   ]
  },
  {
   "cell_type": "code",
   "execution_count": 87,
   "metadata": {},
   "outputs": [],
   "source": [
    "cap = cv2.VideoCapture(\"./videos/100_Paul Rice “Waltz for Ella” FREE SHEET MUSIC P Barton FEURICH piano.mp4\")"
   ]
  },
  {
   "cell_type": "code",
   "execution_count": 88,
   "metadata": {},
   "outputs": [],
   "source": [
    "import matplotlib.pyplot as plt"
   ]
  },
  {
   "cell_type": "code",
   "execution_count": 89,
   "metadata": {},
   "outputs": [],
   "source": [
    "frames = 0\n",
    "while True:\n",
    "    retval, frame = cap.read()\n",
    "    cv2.imwrite(f\"./test/out{frames}.png\", frame)\n",
    "    if retval:\n",
    "        frames+=1\n",
    "    if not(retval):\t# 프레임정보를 정상적으로 읽지 못하면\n",
    "        break  # while문을 빠져나가기\n",
    "    break"
   ]
  },
  {
   "cell_type": "code",
   "execution_count": 198,
   "metadata": {},
   "outputs": [
    {
     "data": {
      "text/plain": [
       "5488"
      ]
     },
     "execution_count": 198,
     "metadata": {},
     "output_type": "execute_result"
    }
   ],
   "source": [
    "frames"
   ]
  }
 ],
 "metadata": {
  "kernelspec": {
   "display_name": "mlenv",
   "language": "python",
   "name": "python3"
  },
  "language_info": {
   "codemirror_mode": {
    "name": "ipython",
    "version": 3
   },
   "file_extension": ".py",
   "mimetype": "text/x-python",
   "name": "python",
   "nbconvert_exporter": "python",
   "pygments_lexer": "ipython3",
   "version": "3.8.5"
  },
  "orig_nbformat": 4
 },
 "nbformat": 4,
 "nbformat_minor": 2
}
